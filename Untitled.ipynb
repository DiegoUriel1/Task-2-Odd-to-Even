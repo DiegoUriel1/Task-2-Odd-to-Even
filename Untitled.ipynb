{
 "cells": [
  {
   "cell_type": "markdown",
   "id": "9648d86c-2021-4984-b07e-5199bac36156",
   "metadata": {},
   "source": [
    "#Data transformation algorithm development work with qiskit "
   ]
  },
  {
   "cell_type": "markdown",
   "id": "0d949af0-ece9-4d16-888b-bc82c99a8cb9",
   "metadata": {},
   "source": [
    "Requirements\r\n",
    "Python 3.x\r\n",
    "Qiskit library\r\n",
    "To install Qiskit, run:"
   ]
  },
  {
   "cell_type": "markdown",
   "id": "fe051ebd-56c7-43c2-a7f3-9fdede55dc32",
   "metadata": {},
   "source": [
    "pip install qiskit==0.4.4"
   ]
  },
  {
   "cell_type": "code",
   "execution_count": 4,
   "id": "323842a4-f13c-4935-977f-f3c56cceb982",
   "metadata": {},
   "outputs": [
    {
     "name": "stdout",
     "output_type": "stream",
     "text": [
      "Requirement already satisfied: qiskit==0.44.3 in c:\\users\\galleg\\anaconda3\\lib\\site-packages (0.44.3)\n",
      "Requirement already satisfied: qiskit-terra==0.25.3 in c:\\users\\galleg\\anaconda3\\lib\\site-packages (from qiskit==0.44.3) (0.25.3)\n",
      "Requirement already satisfied: rustworkx>=0.13.0 in c:\\users\\galleg\\appdata\\roaming\\python\\python311\\site-packages (from qiskit-terra==0.25.3->qiskit==0.44.3) (0.14.2)\n",
      "Requirement already satisfied: numpy>=1.17 in c:\\users\\galleg\\appdata\\roaming\\python\\python311\\site-packages (from qiskit-terra==0.25.3->qiskit==0.44.3) (1.23.5)\n",
      "Requirement already satisfied: ply>=3.10 in c:\\users\\galleg\\anaconda3\\lib\\site-packages (from qiskit-terra==0.25.3->qiskit==0.44.3) (3.11)\n",
      "Requirement already satisfied: psutil>=5 in c:\\users\\galleg\\anaconda3\\lib\\site-packages (from qiskit-terra==0.25.3->qiskit==0.44.3) (5.9.0)\n",
      "Requirement already satisfied: scipy>=1.5 in c:\\users\\galleg\\anaconda3\\lib\\site-packages (from qiskit-terra==0.25.3->qiskit==0.44.3) (1.11.4)\n",
      "Requirement already satisfied: sympy>=1.3 in c:\\users\\galleg\\anaconda3\\lib\\site-packages (from qiskit-terra==0.25.3->qiskit==0.44.3) (1.12)\n",
      "Requirement already satisfied: dill>=0.3 in c:\\users\\galleg\\anaconda3\\lib\\site-packages (from qiskit-terra==0.25.3->qiskit==0.44.3) (0.3.7)\n",
      "Requirement already satisfied: python-dateutil>=2.8.0 in c:\\users\\galleg\\anaconda3\\lib\\site-packages (from qiskit-terra==0.25.3->qiskit==0.44.3) (2.8.2)\n",
      "Requirement already satisfied: stevedore>=3.0.0 in c:\\users\\galleg\\appdata\\roaming\\python\\python311\\site-packages (from qiskit-terra==0.25.3->qiskit==0.44.3) (5.2.0)\n",
      "Requirement already satisfied: six>=1.5 in c:\\users\\galleg\\anaconda3\\lib\\site-packages (from python-dateutil>=2.8.0->qiskit-terra==0.25.3->qiskit==0.44.3) (1.16.0)\n",
      "Requirement already satisfied: pbr!=2.1.0,>=2.0.0 in c:\\users\\galleg\\appdata\\roaming\\python\\python311\\site-packages (from stevedore>=3.0.0->qiskit-terra==0.25.3->qiskit==0.44.3) (6.0.0)\n",
      "Requirement already satisfied: mpmath>=0.19 in c:\\users\\galleg\\anaconda3\\lib\\site-packages (from sympy>=1.3->qiskit-terra==0.25.3->qiskit==0.44.3) (1.3.0)\n"
     ]
    }
   ],
   "source": [
    "from qiskit import QuantumCircuit, execute, Aer"
   ]
  },
  {
   "cell_type": "code",
   "execution_count": 3,
   "id": "9e221744-176e-44b6-8bff-bf0449df5ffa",
   "metadata": {},
   "outputs": [
    {
     "name": "stdout",
     "output_type": "stream",
     "text": [
      "^C\n",
      "Note: you may need to restart the kernel to use updated packages.\n"
     ]
    }
   ],
   "source": [
    "pip install qiskit==0.44.3"
   ]
  },
  {
   "cell_type": "code",
   "execution_count": 5,
   "id": "7ba701d5-01b6-418f-a14f-e52fa7a004c7",
   "metadata": {},
   "outputs": [],
   "source": [
    "from qiskit import QuantumCircuit, execute, Aer"
   ]
  },
  {
   "cell_type": "code",
   "execution_count": 6,
   "id": "e7a56542-e691-4730-80f0-7388b03efb31",
   "metadata": {},
   "outputs": [],
   "source": [
    "def odd_to_even(n, list_numbers):\n",
    "    # Determinar el número máximo de qubits necesarios\n",
    "    max_qubits = max(n.bit_length(), max(list_numbers).bit_length())\n",
    "\n",
    "    # Crear un circuito cuántico\n",
    "    qc = QuantumCircuit(max_qubits)\n",
    "\n",
    "    # Codificar cada número en la lista como un estado cuántico\n",
    "    for num in list_numbers:\n",
    "        if num % 2 == 1:  # Si el número es impar\n",
    "            if num == n or num + 1 == n:\n",
    "                qc.x(max_qubits - 1)  # Aplicar puerta X al último qubit\n",
    "            else:\n",
    "                qc.x(num - 1)  # Aplicar puerta X al qubit correspondiente al número impar\n",
    "\n",
    "    # Medir los qubits\n",
    "    qc.measure_all()\n",
    "\n",
    "    # Ejecutar el circuito en un simulador\n",
    "    backend = Aer.get_backend('qasm_simulator')\n",
    "    job = execute(qc, backend, shots=1)\n",
    "    result = job.result().get_counts(qc)\n",
    "\n",
    "    # Decodificar el resultado\n",
    "    output = []\n",
    "    for state, count in result.items():\n",
    "        if count > 0:\n",
    "            num = int(state, 2)\n",
    "            if num % 2 == 0:  # Si el número es par\n",
    "                output.append(num)\n",
    "            else:  # Si el número es impar\n",
    "                output.append(num + 1)\n",
    "\n",
    "    return output\n"
   ]
  },
  {
   "cell_type": "code",
   "execution_count": 7,
   "id": "6084daf5-ac3d-4ad5-972e-e878007c97c3",
   "metadata": {},
   "outputs": [
    {
     "ename": "CircuitError",
     "evalue": "'Index 6 out of range for size 5.'",
     "output_type": "error",
     "traceback": [
      "\u001b[1;31m---------------------------------------------------------------------------\u001b[0m",
      "\u001b[1;31mIndexError\u001b[0m                                Traceback (most recent call last)",
      "File \u001b[1;32m~\\anaconda3\\Lib\\site-packages\\qiskit\\circuit\\quantumcircuit.py:5225\u001b[0m, in \u001b[0;36m_bit_argument_conversion\u001b[1;34m(specifier, bit_sequence, bit_set, type_)\u001b[0m\n\u001b[0;32m   5224\u001b[0m \u001b[38;5;28;01mtry\u001b[39;00m:\n\u001b[1;32m-> 5225\u001b[0m     \u001b[38;5;28;01mreturn\u001b[39;00m [bit_sequence[specifier]]\n\u001b[0;32m   5226\u001b[0m \u001b[38;5;28;01mexcept\u001b[39;00m \u001b[38;5;167;01mIndexError\u001b[39;00m \u001b[38;5;28;01mas\u001b[39;00m ex:\n",
      "\u001b[1;31mIndexError\u001b[0m: list index out of range",
      "\nThe above exception was the direct cause of the following exception:\n",
      "\u001b[1;31mCircuitError\u001b[0m                              Traceback (most recent call last)",
      "Cell \u001b[1;32mIn[7], line 4\u001b[0m\n\u001b[0;32m      2\u001b[0m n \u001b[38;5;241m=\u001b[39m \u001b[38;5;241m31\u001b[39m\n\u001b[0;32m      3\u001b[0m list_numbers \u001b[38;5;241m=\u001b[39m [\u001b[38;5;241m1\u001b[39m, \u001b[38;5;241m2\u001b[39m, \u001b[38;5;241m2\u001b[39m, \u001b[38;5;241m4\u001b[39m, \u001b[38;5;241m5\u001b[39m, \u001b[38;5;241m6\u001b[39m, \u001b[38;5;241m7\u001b[39m, \u001b[38;5;241m11\u001b[39m, \u001b[38;5;241m17\u001b[39m, \u001b[38;5;241m21\u001b[39m, \u001b[38;5;241m22\u001b[39m, \u001b[38;5;241m23\u001b[39m]\n\u001b[1;32m----> 4\u001b[0m result \u001b[38;5;241m=\u001b[39m odd_to_even(n, list_numbers)\n\u001b[0;32m      5\u001b[0m \u001b[38;5;28mprint\u001b[39m(result)\n",
      "Cell \u001b[1;32mIn[6], line 14\u001b[0m, in \u001b[0;36modd_to_even\u001b[1;34m(n, list_numbers)\u001b[0m\n\u001b[0;32m     12\u001b[0m             qc\u001b[38;5;241m.\u001b[39mx(max_qubits \u001b[38;5;241m-\u001b[39m \u001b[38;5;241m1\u001b[39m)  \u001b[38;5;66;03m# Aplicar puerta X al último qubit\u001b[39;00m\n\u001b[0;32m     13\u001b[0m         \u001b[38;5;28;01melse\u001b[39;00m:\n\u001b[1;32m---> 14\u001b[0m             qc\u001b[38;5;241m.\u001b[39mx(num \u001b[38;5;241m-\u001b[39m \u001b[38;5;241m1\u001b[39m)  \u001b[38;5;66;03m# Aplicar puerta X al qubit correspondiente al número impar\u001b[39;00m\n\u001b[0;32m     16\u001b[0m \u001b[38;5;66;03m# Medir los qubits\u001b[39;00m\n\u001b[0;32m     17\u001b[0m qc\u001b[38;5;241m.\u001b[39mmeasure_all()\n",
      "File \u001b[1;32m~\\anaconda3\\Lib\\site-packages\\qiskit\\circuit\\quantumcircuit.py:3838\u001b[0m, in \u001b[0;36mQuantumCircuit.x\u001b[1;34m(self, qubit, label)\u001b[0m\n\u001b[0;32m   3825\u001b[0m \u001b[38;5;250m\u001b[39m\u001b[38;5;124mr\u001b[39m\u001b[38;5;124;03m\"\"\"Apply :class:`~qiskit.circuit.library.XGate`.\u001b[39;00m\n\u001b[0;32m   3826\u001b[0m \n\u001b[0;32m   3827\u001b[0m \u001b[38;5;124;03mFor the full matrix form of this gate, see the underlying gate documentation.\u001b[39;00m\n\u001b[1;32m   (...)\u001b[0m\n\u001b[0;32m   3834\u001b[0m \u001b[38;5;124;03m    A handle to the instructions created.\u001b[39;00m\n\u001b[0;32m   3835\u001b[0m \u001b[38;5;124;03m\"\"\"\u001b[39;00m\n\u001b[0;32m   3836\u001b[0m \u001b[38;5;28;01mfrom\u001b[39;00m \u001b[38;5;21;01m.\u001b[39;00m\u001b[38;5;21;01mlibrary\u001b[39;00m\u001b[38;5;21;01m.\u001b[39;00m\u001b[38;5;21;01mstandard_gates\u001b[39;00m\u001b[38;5;21;01m.\u001b[39;00m\u001b[38;5;21;01mx\u001b[39;00m \u001b[38;5;28;01mimport\u001b[39;00m XGate\n\u001b[1;32m-> 3838\u001b[0m \u001b[38;5;28;01mreturn\u001b[39;00m \u001b[38;5;28mself\u001b[39m\u001b[38;5;241m.\u001b[39mappend(XGate(label\u001b[38;5;241m=\u001b[39mlabel), [qubit], [])\n",
      "File \u001b[1;32m~\\anaconda3\\Lib\\site-packages\\qiskit\\circuit\\quantumcircuit.py:1278\u001b[0m, in \u001b[0;36mQuantumCircuit.append\u001b[1;34m(self, instruction, qargs, cargs)\u001b[0m\n\u001b[0;32m   1275\u001b[0m     \u001b[38;5;28;01mif\u001b[39;00m is_parameter:\n\u001b[0;32m   1276\u001b[0m         operation \u001b[38;5;241m=\u001b[39m copy\u001b[38;5;241m.\u001b[39mdeepcopy(operation)\n\u001b[1;32m-> 1278\u001b[0m expanded_qargs \u001b[38;5;241m=\u001b[39m [\u001b[38;5;28mself\u001b[39m\u001b[38;5;241m.\u001b[39mqbit_argument_conversion(qarg) \u001b[38;5;28;01mfor\u001b[39;00m qarg \u001b[38;5;129;01min\u001b[39;00m qargs \u001b[38;5;129;01mor\u001b[39;00m []]\n\u001b[0;32m   1279\u001b[0m expanded_cargs \u001b[38;5;241m=\u001b[39m [\u001b[38;5;28mself\u001b[39m\u001b[38;5;241m.\u001b[39mcbit_argument_conversion(carg) \u001b[38;5;28;01mfor\u001b[39;00m carg \u001b[38;5;129;01min\u001b[39;00m cargs \u001b[38;5;129;01mor\u001b[39;00m []]\n\u001b[0;32m   1281\u001b[0m \u001b[38;5;28;01mif\u001b[39;00m \u001b[38;5;28mself\u001b[39m\u001b[38;5;241m.\u001b[39m_control_flow_scopes:\n",
      "File \u001b[1;32m~\\anaconda3\\Lib\\site-packages\\qiskit\\circuit\\quantumcircuit.py:1278\u001b[0m, in \u001b[0;36m<listcomp>\u001b[1;34m(.0)\u001b[0m\n\u001b[0;32m   1275\u001b[0m     \u001b[38;5;28;01mif\u001b[39;00m is_parameter:\n\u001b[0;32m   1276\u001b[0m         operation \u001b[38;5;241m=\u001b[39m copy\u001b[38;5;241m.\u001b[39mdeepcopy(operation)\n\u001b[1;32m-> 1278\u001b[0m expanded_qargs \u001b[38;5;241m=\u001b[39m [\u001b[38;5;28mself\u001b[39m\u001b[38;5;241m.\u001b[39mqbit_argument_conversion(qarg) \u001b[38;5;28;01mfor\u001b[39;00m qarg \u001b[38;5;129;01min\u001b[39;00m qargs \u001b[38;5;129;01mor\u001b[39;00m []]\n\u001b[0;32m   1279\u001b[0m expanded_cargs \u001b[38;5;241m=\u001b[39m [\u001b[38;5;28mself\u001b[39m\u001b[38;5;241m.\u001b[39mcbit_argument_conversion(carg) \u001b[38;5;28;01mfor\u001b[39;00m carg \u001b[38;5;129;01min\u001b[39;00m cargs \u001b[38;5;129;01mor\u001b[39;00m []]\n\u001b[0;32m   1281\u001b[0m \u001b[38;5;28;01mif\u001b[39;00m \u001b[38;5;28mself\u001b[39m\u001b[38;5;241m.\u001b[39m_control_flow_scopes:\n",
      "File \u001b[1;32m~\\anaconda3\\Lib\\site-packages\\qiskit\\circuit\\quantumcircuit.py:1149\u001b[0m, in \u001b[0;36mQuantumCircuit.qbit_argument_conversion\u001b[1;34m(self, qubit_representation)\u001b[0m\n\u001b[0;32m   1138\u001b[0m \u001b[38;5;28;01mdef\u001b[39;00m \u001b[38;5;21mqbit_argument_conversion\u001b[39m(\u001b[38;5;28mself\u001b[39m, qubit_representation: QubitSpecifier) \u001b[38;5;241m-\u001b[39m\u001b[38;5;241m>\u001b[39m \u001b[38;5;28mlist\u001b[39m[Qubit]:\n\u001b[0;32m   1139\u001b[0m \u001b[38;5;250m    \u001b[39m\u001b[38;5;124;03m\"\"\"\u001b[39;00m\n\u001b[0;32m   1140\u001b[0m \u001b[38;5;124;03m    Converts several qubit representations (such as indexes, range, etc.)\u001b[39;00m\n\u001b[0;32m   1141\u001b[0m \u001b[38;5;124;03m    into a list of qubits.\u001b[39;00m\n\u001b[1;32m   (...)\u001b[0m\n\u001b[0;32m   1147\u001b[0m \u001b[38;5;124;03m        List(Qubit): the resolved instances of the qubits.\u001b[39;00m\n\u001b[0;32m   1148\u001b[0m \u001b[38;5;124;03m    \"\"\"\u001b[39;00m\n\u001b[1;32m-> 1149\u001b[0m     \u001b[38;5;28;01mreturn\u001b[39;00m _bit_argument_conversion(\n\u001b[0;32m   1150\u001b[0m         qubit_representation, \u001b[38;5;28mself\u001b[39m\u001b[38;5;241m.\u001b[39mqubits, \u001b[38;5;28mself\u001b[39m\u001b[38;5;241m.\u001b[39m_qubit_indices, Qubit\n\u001b[0;32m   1151\u001b[0m     )\n",
      "File \u001b[1;32m~\\anaconda3\\Lib\\site-packages\\qiskit\\circuit\\quantumcircuit.py:5227\u001b[0m, in \u001b[0;36m_bit_argument_conversion\u001b[1;34m(specifier, bit_sequence, bit_set, type_)\u001b[0m\n\u001b[0;32m   5225\u001b[0m         \u001b[38;5;28;01mreturn\u001b[39;00m [bit_sequence[specifier]]\n\u001b[0;32m   5226\u001b[0m     \u001b[38;5;28;01mexcept\u001b[39;00m \u001b[38;5;167;01mIndexError\u001b[39;00m \u001b[38;5;28;01mas\u001b[39;00m ex:\n\u001b[1;32m-> 5227\u001b[0m         \u001b[38;5;28;01mraise\u001b[39;00m CircuitError(\n\u001b[0;32m   5228\u001b[0m             \u001b[38;5;124mf\u001b[39m\u001b[38;5;124m\"\u001b[39m\u001b[38;5;124mIndex \u001b[39m\u001b[38;5;132;01m{\u001b[39;00mspecifier\u001b[38;5;132;01m}\u001b[39;00m\u001b[38;5;124m out of range for size \u001b[39m\u001b[38;5;132;01m{\u001b[39;00m\u001b[38;5;28mlen\u001b[39m(bit_sequence)\u001b[38;5;132;01m}\u001b[39;00m\u001b[38;5;124m.\u001b[39m\u001b[38;5;124m\"\u001b[39m\n\u001b[0;32m   5229\u001b[0m         ) \u001b[38;5;28;01mfrom\u001b[39;00m \u001b[38;5;21;01mex\u001b[39;00m\n\u001b[0;32m   5230\u001b[0m \u001b[38;5;66;03m# Slices can't raise IndexError - they just return an empty list.\u001b[39;00m\n\u001b[0;32m   5231\u001b[0m \u001b[38;5;28;01mif\u001b[39;00m \u001b[38;5;28misinstance\u001b[39m(specifier, \u001b[38;5;28mslice\u001b[39m):\n",
      "\u001b[1;31mCircuitError\u001b[0m: 'Index 6 out of range for size 5.'"
     ]
    }
   ],
   "source": [
    "\n",
    "# Ejemplo de uso\n",
    "n = 31\n",
    "list_numbers = [1, 2, 2, 4, 5, 6, 7, 11, 17, 21, 22, 23]\n",
    "result = odd_to_even(n, list_numbers)\n",
    "print(result)"
   ]
  }
 ],
 "metadata": {
  "kernelspec": {
   "display_name": "Python 3 (ipykernel)",
   "language": "python",
   "name": "python3"
  },
  "language_info": {
   "codemirror_mode": {
    "name": "ipython",
    "version": 3
   },
   "file_extension": ".py",
   "mimetype": "text/x-python",
   "name": "python",
   "nbconvert_exporter": "python",
   "pygments_lexer": "ipython3",
   "version": "3.11.7"
  }
 },
 "nbformat": 4,
 "nbformat_minor": 5
}
