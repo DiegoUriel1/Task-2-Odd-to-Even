{
 "cells": [
  {
   "cell_type": "markdown",
   "id": "9648d86c-2021-4984-b07e-5199bac36156",
   "metadata": {},
   "source": [
    "#Data transformation algorithm development work with qiskit "
   ]
  },
  {
   "cell_type": "markdown",
   "id": "0d949af0-ece9-4d16-888b-bc82c99a8cb9",
   "metadata": {},
   "source": [
    "Requirements\r\n",
    "Python 3.x\r\n",
    "Qiskit library\r\n",
    "To install Qiskit, run:"
   ]
  },
  {
   "cell_type": "markdown",
   "id": "fe051ebd-56c7-43c2-a7f3-9fdede55dc32",
   "metadata": {},
   "source": [
    "pip install qiskit==0.4.4"
   ]
  },
  {
   "cell_type": "code",
   "execution_count": 4,
   "id": "323842a4-f13c-4935-977f-f3c56cceb982",
   "metadata": {},
   "outputs": [
    {
     "name": "stdout",
     "output_type": "stream",
     "text": [
      "Requirement already satisfied: qiskit==0.44.3 in c:\\users\\galleg\\anaconda3\\lib\\site-packages (0.44.3)\n",
      "Requirement already satisfied: qiskit-terra==0.25.3 in c:\\users\\galleg\\anaconda3\\lib\\site-packages (from qiskit==0.44.3) (0.25.3)\n",
      "Requirement already satisfied: rustworkx>=0.13.0 in c:\\users\\galleg\\appdata\\roaming\\python\\python311\\site-packages (from qiskit-terra==0.25.3->qiskit==0.44.3) (0.14.2)\n",
      "Requirement already satisfied: numpy>=1.17 in c:\\users\\galleg\\appdata\\roaming\\python\\python311\\site-packages (from qiskit-terra==0.25.3->qiskit==0.44.3) (1.23.5)\n",
      "Requirement already satisfied: ply>=3.10 in c:\\users\\galleg\\anaconda3\\lib\\site-packages (from qiskit-terra==0.25.3->qiskit==0.44.3) (3.11)\n",
      "Requirement already satisfied: psutil>=5 in c:\\users\\galleg\\anaconda3\\lib\\site-packages (from qiskit-terra==0.25.3->qiskit==0.44.3) (5.9.0)\n",
      "Requirement already satisfied: scipy>=1.5 in c:\\users\\galleg\\anaconda3\\lib\\site-packages (from qiskit-terra==0.25.3->qiskit==0.44.3) (1.11.4)\n",
      "Requirement already satisfied: sympy>=1.3 in c:\\users\\galleg\\anaconda3\\lib\\site-packages (from qiskit-terra==0.25.3->qiskit==0.44.3) (1.12)\n",
      "Requirement already satisfied: dill>=0.3 in c:\\users\\galleg\\anaconda3\\lib\\site-packages (from qiskit-terra==0.25.3->qiskit==0.44.3) (0.3.7)\n",
      "Requirement already satisfied: python-dateutil>=2.8.0 in c:\\users\\galleg\\anaconda3\\lib\\site-packages (from qiskit-terra==0.25.3->qiskit==0.44.3) (2.8.2)\n",
      "Requirement already satisfied: stevedore>=3.0.0 in c:\\users\\galleg\\appdata\\roaming\\python\\python311\\site-packages (from qiskit-terra==0.25.3->qiskit==0.44.3) (5.2.0)\n",
      "Requirement already satisfied: six>=1.5 in c:\\users\\galleg\\anaconda3\\lib\\site-packages (from python-dateutil>=2.8.0->qiskit-terra==0.25.3->qiskit==0.44.3) (1.16.0)\n",
      "Requirement already satisfied: pbr!=2.1.0,>=2.0.0 in c:\\users\\galleg\\appdata\\roaming\\python\\python311\\site-packages (from stevedore>=3.0.0->qiskit-terra==0.25.3->qiskit==0.44.3) (6.0.0)\n",
      "Requirement already satisfied: mpmath>=0.19 in c:\\users\\galleg\\anaconda3\\lib\\site-packages (from sympy>=1.3->qiskit-terra==0.25.3->qiskit==0.44.3) (1.3.0)\n"
     ]
    }
   ],
   "source": [
    "from qiskit import QuantumCircuit, execute, Aer"
   ]
  },
  {
   "cell_type": "code",
   "execution_count": 3,
   "id": "9e221744-176e-44b6-8bff-bf0449df5ffa",
   "metadata": {},
   "outputs": [
    {
     "name": "stdout",
     "output_type": "stream",
     "text": [
      "^C\n",
      "Note: you may need to restart the kernel to use updated packages.\n"
     ]
    }
   ],
   "source": [
    "pip install qiskit==0.44.3"
   ]
  },
  {
   "cell_type": "code",
   "execution_count": 27,
   "id": "7ba701d5-01b6-418f-a14f-e52fa7a004c7",
   "metadata": {},
   "outputs": [],
   "source": [
    "from qiskit import QuantumCircuit, execute, Aer"
   ]
  },
  {
   "cell_type": "code",
   "execution_count": 33,
   "id": "e7a56542-e691-4730-80f0-7388b03efb31",
   "metadata": {},
   "outputs": [],
   "source": [
    "def odd_to_even(n, list_numbers):\n",
    "    \"\"\"\n",
    "    Transforms odd numbers in the range [1, n) into even numbers while preserving the range.\n",
    "    \n",
    "    Args:\n",
    "        n (int): The maximum value in the range, which must be a power of 2 (n = 2^k).\n",
    "        list_numbers (list): A list of integers in the range [1, n).\n",
    "        \n",
    "    Returns:\n",
    "        list: A list of transformed numbers, where odd numbers are converted to even numbers.\n",
    "    \"\"\"\n",
    "    \n",
    "    # Determine the maximum number of qubits needed\n",
    "    max_qubits = max(n.bit_length(), max(list_numbers).bit_length())\n",
    "    \n",
    "    # Create a quantum circuit\n",
    "    qc = QuantumCircuit(max_qubits)\n",
    "    \n",
    "    # Encode each number in the list as a quantum state\n",
    "    for num in list_numbers:\n",
    "        if num % 2 == 1:  # If the number is odd\n",
    "            if num == n:\n",
    "                qc.x(max_qubits - 1)  # Apply X gate to the last qubit\n",
    "            elif num < max_qubits:\n",
    "                qc.x(num - 1)  # Apply X gate to the qubit corresponding to the odd number\n",
    "    \n",
    "    # Measure the qubits\n",
    "    qc.measure_all()\n",
    "    \n",
    "    # Execute the circuit on a simulator\n",
    "    backend = Aer.get_backend('qasm_simulator')\n",
    "    job = execute(qc, backend, shots=1)\n",
    "    result = job.result().get_counts(qc)\n",
    "    \n",
    "    # Decode the result\n",
    "    output = []\n",
    "    for num in list_numbers:\n",
    "        if num % 2 == 0:  # If the number is even\n",
    "            output.append(num)\n",
    "        else:  # If the number is odd\n",
    "            if num == n:\n",
    "                output.append(n)\n",
    "            else:\n",
    "                output.append(num + 1)\n",
    "    \n",
    "    return output\n"
   ]
  },
  {
   "cell_type": "code",
   "execution_count": 34,
   "id": "6084daf5-ac3d-4ad5-972e-e878007c97c3",
   "metadata": {},
   "outputs": [
    {
     "name": "stdout",
     "output_type": "stream",
     "text": [
      "[2, 2, 2, 4, 6, 6, 8, 12, 18, 22, 22, 24]\n"
     ]
    }
   ],
   "source": [
    "\n",
    "# Example usage\n",
    "n = 31\n",
    "list_numbers = [1, 2, 2, 4, 5, 6, 7, 11, 17, 21, 22, 23]\n",
    "result = odd_to_even(n, list_numbers)\n",
    "print(result)"
   ]
  }
 ],
 "metadata": {
  "kernelspec": {
   "display_name": "Python 3 (ipykernel)",
   "language": "python",
   "name": "python3"
  },
  "language_info": {
   "codemirror_mode": {
    "name": "ipython",
    "version": 3
   },
   "file_extension": ".py",
   "mimetype": "text/x-python",
   "name": "python",
   "nbconvert_exporter": "python",
   "pygments_lexer": "ipython3",
   "version": "3.11.7"
  }
 },
 "nbformat": 4,
 "nbformat_minor": 5
}
